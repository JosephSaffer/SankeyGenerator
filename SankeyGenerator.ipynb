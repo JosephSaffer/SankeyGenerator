{
 "cells": [
  {
   "cell_type": "markdown",
   "id": "67fc11c1",
   "metadata": {},
   "source": [
    "# Sankey Diagram Generator #"
   ]
  },
  {
   "cell_type": "markdown",
   "id": "db36ed28",
   "metadata": {},
   "source": [
    "The SankeyGenerator.py file contains a number of functions which can be used to generate Sankey diagrams showing the flow of energy from fuel to final industrial sector, via conversion devices and passive systems, for a given country and year, based on data from the IEA's World Energy Balances. "
   ]
  },
  {
   "cell_type": "code",
   "execution_count": null,
   "id": "b414dab4",
   "metadata": {},
   "outputs": [],
   "source": [
    "from SankeyGenerator import *"
   ]
  },
  {
   "cell_type": "code",
   "execution_count": null,
   "id": "f6cffda5",
   "metadata": {},
   "outputs": [],
   "source": [
    "%%html\n",
    "<style>\n",
    ".sankey{\n",
    "    font-size: 18pt;\n",
    "    font-family: Arial;\n",
    "    \n",
    "}\n",
    "</style>"
   ]
  },
  {
   "cell_type": "markdown",
   "id": "7ddb487d",
   "metadata": {},
   "source": [
    "First, the data function must be used to load the extract the required data from the IEA data set for the given country and year."
   ]
  },
  {
   "cell_type": "code",
   "execution_count": null,
   "id": "19f923e0",
   "metadata": {},
   "outputs": [],
   "source": [
    "Country=input('Country: ')\n",
    "Year=input('Year: ')\n",
    "x=data(Country,Year)"
   ]
  },
  {
   "cell_type": "markdown",
   "id": "f63d4f79",
   "metadata": {},
   "source": [
    "Once this data has been loaded, an \"allocation\" Sankey diagram can be produced, showing the allocation of total primary energy supply to each stage in the energy map. This, as with all of the diagrams to follow, can be produced using energy or exergy values."
   ]
  },
  {
   "cell_type": "code",
   "execution_count": null,
   "id": "44679c0e",
   "metadata": {},
   "outputs": [],
   "source": [
    "Exergy=input('Energy or Exergy: ')"
   ]
  },
  {
   "cell_type": "code",
   "execution_count": null,
   "id": "ffbc9cd2",
   "metadata": {},
   "outputs": [],
   "source": [
    "allocation(x[0],x[1],x[2],x[3],x[4],x[5],Exergy)"
   ]
  },
  {
   "cell_type": "markdown",
   "id": "b9d64bdb",
   "metadata": {},
   "source": [
    "An \"efficiency\" Sankey can also be produced, which takes into account the efficiency of each step."
   ]
  },
  {
   "cell_type": "code",
   "execution_count": null,
   "id": "7ec29850",
   "metadata": {},
   "outputs": [],
   "source": [
    "efficiency(x[0],x[1],x[2],x[3],x[4],x[5],Exergy)"
   ]
  },
  {
   "cell_type": "markdown",
   "id": "4d667c7f",
   "metadata": {},
   "source": [
    "Once can also print the efficiency of each stage in the conversion of energy by calling the following function."
   ]
  },
  {
   "cell_type": "code",
   "execution_count": null,
   "id": "b1e954cd",
   "metadata": {},
   "outputs": [],
   "source": [
    "efficiencyvalues(x[0],x[1],x[2],x[3],x[4],x[5],Exergy)"
   ]
  },
  {
   "cell_type": "markdown",
   "id": "729f90df",
   "metadata": {},
   "source": [
    "Changes can the be made to the efficiency of an individual engineering device to observe the effects on the overall efficiency and primary energy demand."
   ]
  },
  {
   "cell_type": "code",
   "execution_count": null,
   "id": "4a34ecec",
   "metadata": {},
   "outputs": [],
   "source": [
    "Device=input('Conversion Device: ')\n",
    "Value=input('New Value: ')\n",
    "change(x[0],x[1],x[2],x[3],x[4],x[5],Exergy,Device,Value)"
   ]
  },
  {
   "cell_type": "markdown",
   "id": "4b83f584",
   "metadata": {},
   "source": [
    "If concerned with the efficiency of an individual industrial sector, rather than the national total, the following function can be called."
   ]
  },
  {
   "cell_type": "code",
   "execution_count": null,
   "id": "8e2bca1d",
   "metadata": {},
   "outputs": [],
   "source": [
    "Sector=input('Sector: ')\n",
    "sector(x[0],x[1],x[2],x[3],x[4],x[5],Exergy,Sector)"
   ]
  },
  {
   "cell_type": "markdown",
   "id": "184cf316",
   "metadata": {},
   "source": [
    "Finally, similarly to above, the efficiency values can be printed and the efficiency of a conversion device can be changed for the desired sector."
   ]
  },
  {
   "cell_type": "code",
   "execution_count": null,
   "id": "1699526b",
   "metadata": {},
   "outputs": [],
   "source": [
    "sectorvalues(x[0],x[1],x[2],x[3],x[4],x[5],Exergy,Sector)"
   ]
  },
  {
   "cell_type": "code",
   "execution_count": null,
   "id": "962d448e",
   "metadata": {},
   "outputs": [],
   "source": [
    "Device=input('Conversion Device: ')\n",
    "Value=input('New Value: ')\n",
    "sectorchange(x[0],x[1],x[2],x[3],x[4],x[5],Exergy,Sector,Device,Value)"
   ]
  }
 ],
 "metadata": {
  "kernelspec": {
   "display_name": "Python 3 (ipykernel)",
   "language": "python",
   "name": "python3"
  },
  "language_info": {
   "codemirror_mode": {
    "name": "ipython",
    "version": 3
   },
   "file_extension": ".py",
   "mimetype": "text/x-python",
   "name": "python",
   "nbconvert_exporter": "python",
   "pygments_lexer": "ipython3",
   "version": "3.9.12"
  }
 },
 "nbformat": 4,
 "nbformat_minor": 5
}
